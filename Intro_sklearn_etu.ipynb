{
 "cells": [
  {
   "cell_type": "markdown",
   "id": "f2c5be67-31c5-4506-b27c-82a09bb30843",
   "metadata": {},
   "source": [
    "# I Installation \n",
    "(dans le cas d'une utilisation sur votre poste personnel)\n",
    "Avant de commencer, assurez-vous d’avoir Scikit-learn installé (de préférence dans un environnement virtuel en utilisant conda) :\n",
    "pip install scikit-learn\n",
    "\n",
    "sinon, à l'insa : \n",
    "\n",
    "``` $ source /opt/venv/stpi-m8/bin/activate``` \n",
    "\n",
    "``` $ python -m ipykernel install --user --name M8``` \n",
    "\n",
    "``` $ jupyter notebook``` \n",
    "\n",
    "Nous utilisons un notebook Python. Cet outil est intéressant pour prototyper rapidement du code mais peut s'avérer difficile (car les cellules peuvent être lancées dans un ordre arbitraire et provoquer des effets de bord)"
   ]
  },
  {
   "cell_type": "code",
   "execution_count": 5,
   "id": "82c55eee-7fb6-4737-9bcb-29e8c61a3757",
   "metadata": {},
   "outputs": [],
   "source": [
    "# import nécessaires pour ce TP \n",
    "from sklearn import datasets\n",
    "from sklearn.model_selection import train_test_split\n",
    "from sklearn.preprocessing import StandardScaler, MinMaxScaler\n",
    "from sklearn.metrics import accuracy_score, confusion_matrix, classification_report\n",
    "\n",
    "import matplotlib.pyplot as plt\n",
    "import pandas as pd\n",
    "import numpy as np"
   ]
  },
  {
   "cell_type": "markdown",
   "id": "0fc28ce8-37b2-4467-a6a9-448f5c6c74ec",
   "metadata": {},
   "source": [
    "Dans Scikit-learn, les objets vont représenter des instantiations des différents modèles. Ce choix est un peu déroutant mais sera plus compréhensible quand nous ferons de la validation croisée notamment."
   ]
  },
  {
   "cell_type": "markdown",
   "id": "a898f4ea-a2b6-468e-81c0-94ce2279b768",
   "metadata": {},
   "source": [
    "# II Estimators dans Scikit-learn\n",
    "\n",
    "Un estimateur dans Scikit-learn est un objet qui peut apprendre à partir des données. Il suit toujours la structure suivante :\n",
    "\n",
    "• .fit(X, y) → entraînement du modèle\n",
    "\n",
    "• .predict(X) → prédiction\n",
    "\n",
    "• .score(X, y) → évaluation du modèle\n",
    "\n",
    "\n",
    "Nous allons illustrer cela avec une régression logistique sur le dataset Iris."
   ]
  },
  {
   "cell_type": "code",
   "execution_count": 26,
   "id": "5730c8b9-64c0-4aac-a169-bcf7792db4d3",
   "metadata": {
    "scrolled": true
   },
   "outputs": [
    {
     "name": "stdout",
     "output_type": "stream",
     "text": [
      "   sepal length (cm)  sepal width (cm)  petal length (cm)  petal width (cm)  \\\n",
      "0                5.1               3.5                1.4               0.2   \n",
      "1                4.9               3.0                1.4               0.2   \n",
      "2                4.7               3.2                1.3               0.2   \n",
      "3                4.6               3.1                1.5               0.2   \n",
      "4                5.0               3.6                1.4               0.2   \n",
      "\n",
      "   target  \n",
      "0       0  \n",
      "1       0  \n",
      "2       0  \n",
      "3       0  \n",
      "4       0  \n",
      "[0 1 2]\n",
      "Accuracy du modèle: 1.00\n"
     ]
    }
   ],
   "source": [
    "###Chargement du Dataset\n",
    "\n",
    "iris = datasets.load_iris()\n",
    "#help(datasets.load_iris())\n",
    "\n",
    "X, y = iris.data, iris.target\n",
    "\n",
    "#on aurait aussi pu faire\n",
    "#X,y =  datasets.load_iris()\n",
    "\n",
    "df = pd.DataFrame(X, columns=iris.feature_names)\n",
    "df['target'] = y\n",
    "\n",
    "print(df.head())\n",
    "print(np.unique(y))\n",
    "\n",
    "#Séparation des données en Train/Test\n",
    "\n",
    "X_train, X_test, y_train, y_test = train_test_split(X, y, test_size=0.2, random_state=42)\n",
    "\n",
    "#Utilisation d’un Estimateur : Régression Logistique\n",
    "from sklearn.linear_model import LogisticRegression\n",
    "\n",
    "# Initialisation de l'estimateur\n",
    "model = LogisticRegression()\n",
    "\n",
    "# Entraînement du modèle\n",
    "model.fit(X_train, y_train)\n",
    "\n",
    "# Prédictions\n",
    "y_pred = model.predict(X_test)\n",
    "\n",
    "# Évaluation\n",
    "accuracy = accuracy_score(y_test, y_pred)\n",
    "\n",
    "print(f\"Accuracy du modèle: {accuracy:.2f}\")"
   ]
  },
  {
   "cell_type": "markdown",
   "id": "3bb15adb-0aa0-4c26-9997-5d8b776a9b63",
   "metadata": {},
   "source": [
    "## Questions \n",
    "1. lisez la documentation des fonctions utilisées pour comprendre les choix (par défaut fait dans ce cas)\n",
    "2. Quelles sont les spécificités du jeu de données ?\n",
    "3. changez certains paramètres et évaluer leur impact."
   ]
  },
  {
   "cell_type": "code",
   "execution_count": 42,
   "id": "9f1ef0db-d646-4d66-b575-5d3e2dcc5e6b",
   "metadata": {
    "scrolled": true
   },
   "outputs": [
    {
     "name": "stdout",
     "output_type": "stream",
     "text": [
      "[0 1 2]\n",
      "[5.84333333 3.05733333 3.758      1.19933333]\n",
      "Accuracy du modèle: 1.00\n"
     ]
    }
   ],
   "source": [
    "#1 documentation + 2 spécificité du jeu de données\n",
    "\n",
    "#help(datasets.load_iris)\n",
    "\n",
    "#=================   ==============\n",
    "#Classes                          3\n",
    "#Samples per class               50\n",
    "#Samples total                  150\n",
    "#Dimensionality                   4\n",
    "#Features            real, positive\n",
    "#=================   ==============\n",
    "\n",
    "iris = datasets.load_iris()\n",
    "X, y = iris.data, iris.target\n",
    "\n",
    "print(np.unique(y)) #[0 1 2] donc il y a 3 classes\n",
    "print(np.mean(X, axis = 0))\n",
    "\n",
    "#3 Changements de paramètres et évaluons l'impact de ce changement\n",
    "\n",
    "#regréssion logistique\n",
    "\n",
    "# help(LogisticRegression)\n",
    "\n",
    "# |  C : float, default=1.0\n",
    "# |      Inverse of regularization strength; must be a positive float.\n",
    "# |      Like in support vector machines, smaller values specify stronger\n",
    "# |      regularization.\n",
    "\n",
    "model2 = LogisticRegression(penalty = 'l2',C = 0.1)\n",
    "model2.fit(X_train, y_train)\n",
    "y_pred = model.predict(X_test)\n",
    "accuracy = accuracy_score(y_test, y_pred)\n",
    "\n",
    "print(f\"Accuracy du modèle: {accuracy:.2f}\")\n",
    "\n",
    "# ne marche que avec penalty l2\n",
    "#C plus faible => régularisation plus forte"
   ]
  },
  {
   "cell_type": "markdown",
   "id": "e630fe97-78a8-4c87-bba4-ddcecccf9d7e",
   "metadata": {},
   "source": [
    "# III Transformers dans Scikit-learn \n",
    "\n",
    "Dans Scikit-learn, un transformer (à ne pas confondre avec le réseau de neurones ...) est un objet qui modifie ou transforme les données avant qu’elles ne soient utilisées par un modèle d’apprentissage. Il suit une API standard avec trois méthodes principales :\n",
    "\n",
    "1. .fit(X, y=None): Apprend les paramètres de transformation à partir des données (ex. calcul des moyennes pour la standardisation).\n",
    "\n",
    "2. .transform(X): Applique la transformation aux données.\n",
    "\n",
    "3. .fit_transform(X, y=None): Combine fit et transform pour effectuer les deux opérations en une seule étape.\n",
    "\n",
    "Les transformers sont souvent utilisés pour le prétraitement des données, comme la normalisation, la réduction de dimension, l’encodage de variables catégorielles, ou encore la sélection de caractéristiques."
   ]
  },
  {
   "cell_type": "code",
   "execution_count": 45,
   "id": "71fd2684-3141-4549-8965-36059975daba",
   "metadata": {},
   "outputs": [
    {
     "name": "stdout",
     "output_type": "stream",
     "text": [
      "Accuracy après normalisation : 1.00\n"
     ]
    }
   ],
   "source": [
    "#On applique la normalisation (StandardScaler) :\n",
    "\n",
    "scaler = StandardScaler()\n",
    "X_train_scaled = scaler.fit_transform(X_train)\n",
    "#pas à utiliser ici\n",
    "X_test_scaled = scaler.transform(X_test)\n",
    "\n",
    "#On entraîne maintenant le modèle sur les données transformées :\n",
    "model.fit(X_train_scaled, y_train)\n",
    "y_pred_scaled = model.predict(X_test_scaled)\n",
    "\n",
    "\n",
    "accuracy_scaled = accuracy_score(y_test, y_pred_scaled)\n",
    "\n",
    "print(f\"Accuracy après normalisation : {accuracy_scaled:.2f}\")"
   ]
  },
  {
   "cell_type": "markdown",
   "id": "b0e829e9-9321-4354-bd51-666de467dfab",
   "metadata": {},
   "source": [
    "## Questions\n",
    "\n",
    "1. Pourquoi la normalisation peut-elle améliorer les performances d’un modèle ?\n",
    "2. Quelle transformation est appliquée par MinMaxScaler et que se passe-t-il si on applique cette transformation à la place ?\n",
    "   On stockera les prédictions (a partir des données mises à l'échelle avec MinMaxScaler dans une variable ``` y_pred_minmax ``` "
   ]
  },
  {
   "cell_type": "code",
   "execution_count": 49,
   "id": "9d6c7133-de31-4225-ae64-27d44b750d92",
   "metadata": {},
   "outputs": [],
   "source": [
    "# normalisation améliore performances d'un modèle\n",
    "# met les caratéristiques à la même échelles => stabilité"
   ]
  },
  {
   "cell_type": "code",
   "execution_count": 55,
   "id": "fdd6a9a0-a09e-411e-94a3-9bd5657f1917",
   "metadata": {},
   "outputs": [
    {
     "name": "stdout",
     "output_type": "stream",
     "text": [
      "Accuracy MinMax : 0.97\n"
     ]
    }
   ],
   "source": [
    "#Expérimentation :\n",
    "#Essayez MinMaxScaler et comparez les résultats.\n",
    "\n",
    "# help(MinMaxScaler)\n",
    "\n",
    "minmax_scaler = MinMaxScaler()\n",
    "X_train_minmax = minmax_scaler.fit_transform(X_train)\n",
    "X_test_minmax = minmax_scaler.transform(X_test)\n",
    "model.fit(X_train_minmax, y_train)\n",
    "y_pred_minmax = model.predict(X_test_minmax)\n",
    "\n",
    "accuracy_minmax = accuracy_score(y_test, y_pred_minmax)\n",
    "\n",
    "print(f\"Accuracy MinMax : {accuracy_minmax:.2f}\")\n",
    "\n",
    "#Accuracy MinMaxScaler : 0.97 (97%)"
   ]
  },
  {
   "cell_type": "markdown",
   "id": "07771de5-2061-43fa-9218-7aed5217b0b0",
   "metadata": {},
   "source": [
    "## IV Évaluation des Modèles\n",
    "\n",
    "Après l’entraînement d’un modèle, il est crucial d’évaluer ses performances, ce que scikit-learn permet simplement.\n"
   ]
  },
  {
   "cell_type": "code",
   "execution_count": 56,
   "id": "813e1f3d-2cea-4acf-a385-bf3d81d09a9f",
   "metadata": {},
   "outputs": [
    {
     "data": {
      "image/png": "[encoded data removed]",
      "text/plain": [
       "<Figure size 640x480 with 1 Axes>"
      ]
     },
     "metadata": {},
     "output_type": "display_data"
    },
    {
     "name": "stdout",
     "output_type": "stream",
     "text": [
      "              precision    recall  f1-score   support\n",
      "\n",
      "      setosa       1.00      1.00      1.00        10\n",
      "  versicolor       1.00      1.00      1.00         9\n",
      "   virginica       1.00      1.00      1.00        11\n",
      "\n",
      "    accuracy                           1.00        30\n",
      "   macro avg       1.00      1.00      1.00        30\n",
      "weighted avg       1.00      1.00      1.00        30\n",
      "\n"
     ]
    }
   ],
   "source": [
    "#Matrice de Confusion\n",
    "\n",
    "cm = confusion_matrix(y_test, y_pred)\n",
    "# Création d'une figure Matplotlib\n",
    "fig, ax = plt.subplots()\n",
    "ax.matshow(cm, cmap=\"Blues\", alpha=0.75)  # Affichage sous forme de grille\n",
    "\n",
    "# Annotation des valeurs dans la matrice\n",
    "for i in range(cm.shape[0]):\n",
    "    for j in range(cm.shape[1]):\n",
    "        ax.text(x=j, y=i, s=cm[i, j], va='center', ha='center', color=\"black\")\n",
    "\n",
    "# Ajout des labels\n",
    "plt.xlabel(\"Prédictions\")\n",
    "plt.ylabel(\"Vraies Classes\")\n",
    "plt.title(\"Matrice de Confusion\")\n",
    "plt.xticks(ticks=np.arange(len(iris.target_names)), labels=iris.target_names)\n",
    "plt.yticks(ticks=np.arange(len(iris.target_names)), labels=iris.target_names)\n",
    "\n",
    "plt.show()\n",
    "\n",
    "#Rapport de Classification\n",
    "\n",
    "print(classification_report(y_test, y_pred, target_names=iris.target_names))\n"
   ]
  },
  {
   "cell_type": "markdown",
   "id": "d0c868a9-fc52-48d7-9d6f-a9b8d4a9d4bd",
   "metadata": {},
   "source": [
    "## Rappel sur l'interprétation \n",
    "\n",
    "• La précision (precision) correspond à la capacité du modèle à ne pas générer de faux positifs.\n",
    "• Le rappel (recall) mesure la capacité du modèle à identifier tous les vrais positifs.\n",
    "• Le score F1 (f1-score) est une moyenne harmonique entre la précision et le rappel."
   ]
  },
  {
   "cell_type": "markdown",
   "id": "a2a9af54-4104-4f3b-a301-9612e35b4790",
   "metadata": {},
   "source": [
    "## Questions \n",
    "1. appliquer ce code sur la variable ``` y_pred_minmax ``` et expliquer le rapport fourni."
   ]
  },
  {
   "cell_type": "code",
   "execution_count": 54,
   "id": "1b5d126d-de77-40f1-8601-f50747516b55",
   "metadata": {},
   "outputs": [
    {
     "data": {
      "image/png": "[encoded data removed]",
      "text/plain": [
       "<Figure size 640x480 with 1 Axes>"
      ]
     },
     "metadata": {},
     "output_type": "display_data"
    },
    {
     "name": "stdout",
     "output_type": "stream",
     "text": [
      "              precision    recall  f1-score   support\n",
      "\n",
      "      setosa       1.00      1.00      1.00        10\n",
      "  versicolor       1.00      0.89      0.94         9\n",
      "   virginica       0.92      1.00      0.96        11\n",
      "\n",
      "    accuracy                           0.97        30\n",
      "   macro avg       0.97      0.96      0.97        30\n",
      "weighted avg       0.97      0.97      0.97        30\n",
      "\n"
     ]
    }
   ],
   "source": [
    "### Matrice de confuson pour la variable y_pred_minmax\n",
    "\n",
    "\n",
    "cm_minmax = confusion_matrix(y_test, y_pred_minmax)\n",
    "\n",
    "fig, ax = plt.subplots()\n",
    "ax.matshow(cm_minmax, cmap=\"Blues\", alpha=0.75)  # Affichage sous forme de grille\n",
    "\n",
    "for i in range(cm_minmax.shape[0]):\n",
    "    for j in range(cm_minmax.shape[1]):\n",
    "        ax.text(x=j, y=i, s=cm_minmax[i, j], va='center', ha='center', color=\"black\")\n",
    "\n",
    "# Ajout des labels\n",
    "plt.xlabel(\"Prédictions\")\n",
    "plt.ylabel(\"Vraies Classes\")\n",
    "plt.title(\"Matrice de Confusion (pour le MINMAXSCALER)\")\n",
    "plt.xticks(ticks=np.arange(len(iris.target_names)), labels=iris.target_names)\n",
    "plt.yticks(ticks=np.arange(len(iris.target_names)), labels=iris.target_names)\n",
    "\n",
    "plt.show()\n",
    "\n",
    "print(classification_report(y_test, y_pred_minmax, target_names=iris.target_names))\n",
    "\n",
    "#1 support dans versicolor/verginica "
   ]
  },
  {
   "cell_type": "markdown",
   "id": "966b2bb2-72f5-4b95-92a5-857ad1c0c49f",
   "metadata": {},
   "source": [
    "## V Expérimentations Supplémentaires\n",
    "\n",
    "Comparaison de plusieurs modèles (régression logistique, SVM (linéaire), k-plus proches voisins).\n",
    "On pourra crééer une liste d'objets (contenant chaque classifieur) pour se faciliter la tâche."
   ]
  },
  {
   "cell_type": "code",
   "execution_count": 20,
   "id": "5612e2a7-be1b-4423-952e-1c62199bd7d2",
   "metadata": {},
   "outputs": [],
   "source": [
    "#Ajoutez d’autres modèles et comparez leurs performances :\n",
    "from sklearn.svm import SVC\n",
    "from sklearn.neighbors import KNeighborsClassifier\n",
    "from sklearn.ensemble import RandomForestClassifier\n",
    "\n",
    "\n",
    "# Normalisation des données\n",
    "scaler = MinMaxScaler()\n",
    "X_train_scaled = scaler.fit_transform(X_train)\n",
    "X_test_scaled = scaler.transform(X_test)\n",
    "\n",
    "# a completer ...\n",
    "modele_reg = LogisticRegression()\n",
    "modele_SVM\n",
    "modele_kmeans\n"
   ]
  },
  {
   "cell_type": "markdown",
   "id": "c6315caf-db1a-4ffd-a433-2fb026fb6cf6",
   "metadata": {},
   "source": [
    "## Questions aux étudiants :\n",
    "\n",
    "1. Quel modèle fonctionne le mieux sur ce dataset et pourquoi ?\n",
    "2. Quel est l’impact de la normalisation sur chaque modèle ?\n",
    "3. Quelle est la différence entre un modèle linéaire (Logistic Regression, SVM) et un modèle non linéaire (KNN) ?\n"
   ]
  },
  {
   "cell_type": "markdown",
   "id": "6f20de09-5965-4210-a296-1d66c3fd6b01",
   "metadata": {},
   "source": [
    "## VI Conclusion et Ouverture\n",
    "\n",
    "• Les estimateurs dans Scikit-learn suivent une interface commune (fit, predict, score).\n",
    "• Les transformers permettent de prétraiter les données avant d’entraîner un modèle.\n",
    "• L’évaluation des modèles se fait via des métriques comme la précision, le rappel et la matrice de confusion.\n",
    "• Différents modèles peuvent donner des résultats très différents, et la normalisation peut grandement influencer les performances.\n",
    "\n",
    "Si on souhaite implémenter une nouvelle méthode, on pourra créer un objet de la classe Estimator (ou Transformer) et préciser le traitement désiré dans les méthodes fit() et transform(). On pourra l'utiliser de manière transparent avec scikit-learn (et les métriques pourront être calculées et bien plus encore)."
   ]
  },
  {
   "cell_type": "markdown",
   "id": "9616bf9a-d2a3-4083-95fd-6caf1a88c5fa",
   "metadata": {},
   "source": [
    "## Exercices Supplémentaires\n",
    "\n",
    "1. Essayez d’autres datasets (wine, breast_cancer, blobs de Scikit-learn).\n",
    "2. Testez d’autres méthodes de transformation des données (PolynomialFeatures, PCA).\n",
    "3. Changer les paramètres par défaut des transformers et classifiers pour voir l'impact."
   ]
  }
 ],
 "metadata": {
  "kernelspec": {
   "display_name": "Python 3 (ipykernel)",
   "language": "python",
   "name": "python3"
  },
  "language_info": {
   "codemirror_mode": {
    "name": "ipython",
    "version": 3
   },
   "file_extension": ".py",
   "mimetype": "text/x-python",
   "name": "python",
   "nbconvert_exporter": "python",
   "pygments_lexer": "ipython3",
   "version": "3.10.12"
  }
 },
 "nbformat": 4,
 "nbformat_minor": 5
}
