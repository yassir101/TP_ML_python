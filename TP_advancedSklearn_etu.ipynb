{
 "cells": [
  {
   "cell_type": "markdown",
   "id": "7f9ec7a1-9763-41fe-8bd9-fb11dc9eb614",
   "metadata": {},
   "source": [
    "# Rappel  \n",
    "(dans le cas d'une utilisation sur votre poste personnel)\n",
    "Avant de commencer, assurez-vous d’avoir Scikit-learn installé (de préférence dans un environnement virtuel en utilisant conda) :\n",
    "pip install scikit-learn\n",
    "\n",
    "sinon, à l'insa : \n",
    "\n",
    "``` $ source /opt/venv/stpi-m8/bin/activate``` \n",
    "\n",
    "``` $ python -m ipykernel install --user --name M8``` \n",
    "\n",
    "``` $ jupyter notebook``` \n",
    "\n",
    "Nous utilisons un notebook Python. Cet outil est intéressant pour prototyper rapidement du code mais peut s'avérer difficile (car les cellules peuvent être lancées dans un ordre arbitraire et provoquer des effets de bord)"
   ]
  },
  {
   "cell_type": "code",
   "execution_count": 1,
   "id": "5cf4299f-a072-46cc-b7c2-27a85bb6214f",
   "metadata": {},
   "outputs": [],
   "source": [
    "# import nécessaires pour ce TP \n",
    "import numpy as np\n",
    "import matplotlib.pyplot as plt\n",
    "from sklearn.datasets import load_breast_cancer, make_classification\n",
    "from sklearn.model_selection import train_test_split, GridSearchCV\n",
    "from sklearn.pipeline import Pipeline\n",
    "from sklearn.preprocessing import StandardScaler\n",
    "from sklearn.decomposition import PCA\n",
    "from sklearn.svm import SVC\n",
    "from sklearn.metrics import classification_report, f1_score, accuracy_score\n"
   ]
  },
  {
   "cell_type": "markdown",
   "id": "ba4658cf-0024-4086-be09-15619e929da1",
   "metadata": {},
   "source": [
    "# Exemple d'utilisation de pipeline et validation croisée\n",
    "\n",
    "Dans scikit-learn, un Pipeline est un moyen de chaîner plusieurs étapes de prétraitement et de modélisation dans un processus unique et automatisé. \n",
    "\n",
    "- Facilite l'expérimentation : au lieu d'appliquer séparément la standardisation, la réduction de dimension et le modèle, tout est géré dans un même flux de travail.\n",
    "- Évite la fuite de données : chaque transformation est appliquée uniquement sur l’ensemble d’entraînement, puis utilisée sur l’ensemble de test sans biais.\n",
    "-  Compatible avec GridSearchCV : permet d’optimiser tous les paramètres du pipeline en une seule recherche.\n",
    "-  Code plus propre et structuré : plus lisible et maintenable.\n",
    "\n",
    "En pratique, un pipeline est composé d'une suite d'objets (Transformater et Estimator), chacun appliqué dans l'ordre. Les trois points à retenir : \n",
    "\n",
    "- Toutes les étapes sauf la dernière doivent être des transformateurs (avoir une méthode .fit_transform()).\n",
    "- La dernière étape doit être un estimateur (.fit() et .predict()).\n",
    "- Le pipeline se comporte ensuite comme un estimateur.\n",
    "\n",
    "0n pourra faire une validation croisée sur le pipeline et chercher la meilleure combinaison d'hyperparamètres.\n"
   ]
  },
  {
   "cell_type": "code",
   "execution_count": 2,
   "id": "8591bdcf-bde2-4a39-8c25-54592ecb7340",
   "metadata": {},
   "outputs": [
    {
     "name": "stdout",
     "output_type": "stream",
     "text": [
      "Dimensions des données : (1000, 20)\n",
      "Accuracy du pipeline : 0.77\n",
      "\n",
      "Rapport de classification :\n",
      "              precision    recall  f1-score   support\n",
      "\n",
      "           0       0.73      0.81      0.77        96\n",
      "           1       0.81      0.72      0.76       104\n",
      "\n",
      "    accuracy                           0.77       200\n",
      "   macro avg       0.77      0.77      0.76       200\n",
      "weighted avg       0.77      0.77      0.76       200\n",
      "\n",
      "Meilleurs paramètres : {'pca__n_components': 5, 'svm__C': 0.1}\n",
      "Accuracy avec les meilleurs paramètres : 0.82\n",
      "\n",
      "Rapport de classification (modèle optimisé) :\n",
      "              precision    recall  f1-score   support\n",
      "\n",
      "           0       0.83      0.79      0.81        96\n",
      "           1       0.81      0.85      0.83       104\n",
      "\n",
      "    accuracy                           0.82       200\n",
      "   macro avg       0.82      0.82      0.82       200\n",
      "weighted avg       0.82      0.82      0.82       200\n",
      "\n"
     ]
    }
   ],
   "source": [
    "# Génération du dataset\n",
    "X, y = make_classification(n_samples=1000, n_features=20, n_informative=5, \n",
    "                           n_redundant=5, random_state=42)\n",
    "\n",
    "# Séparation en train/test\n",
    "X_train, X_test, y_train, y_test = train_test_split(X, y, test_size=0.2, random_state=42)\n",
    "\n",
    "# Affichage des dimensions\n",
    "print(f\"Dimensions des données : {X.shape}\")\n",
    "\n",
    "# Définition du pipeline\n",
    "pipeline = Pipeline([\n",
    "    ('scaler', StandardScaler()),   # Normalisation\n",
    "    ('pca', PCA(n_components=2)),  # Réduction de dimension\n",
    "    ('svm', SVC(kernel='linear'))   # Classificateur SVM\n",
    "])\n",
    "\n",
    "# Entraînement du pipeline\n",
    "pipeline.fit(X_train, y_train)\n",
    "\n",
    "# Prédiction\n",
    "y_pred = pipeline.predict(X_test)\n",
    "\n",
    "# Évaluation\n",
    "accuracy = accuracy_score(y_test, y_pred)\n",
    "print(f\"Accuracy du pipeline : {accuracy:.2f}\")\n",
    "\n",
    "# Rapport de classification\n",
    "print(\"\\nRapport de classification :\")\n",
    "print(classification_report(y_test, y_pred))\n",
    "\n",
    "# Définition des hyperparamètres à optimiser\n",
    "param_grid = {\n",
    "    'pca__n_components': [3, 5, 10, 15],  \n",
    "    'svm__C': [0.1, 1, 10]  \n",
    "}\n",
    "\n",
    "# Recherche du meilleur modèle\n",
    "grid_search = GridSearchCV(pipeline, param_grid, cv=5, scoring='accuracy', n_jobs=-1) #validation croisée à 5 folds\n",
    "grid_search.fit(X_train, y_train)\n",
    "\n",
    "# Meilleurs paramètres trouvés\n",
    "print(\"Meilleurs paramètres :\", grid_search.best_params_) #donne le meilleur estimateur\n",
    "\n",
    "# Évaluation sur le test set\n",
    "best_model = grid_search.best_estimator_\n",
    "y_pred_best = best_model.predict(X_test)\n",
    "\n",
    "# Affichage des scores\n",
    "best_accuracy = accuracy_score(y_test, y_pred_best)\n",
    "print(f\"Accuracy avec les meilleurs paramètres : {best_accuracy:.2f}\")\n",
    "print(\"\\nRapport de classification (modèle optimisé) :\")\n",
    "print(classification_report(y_test, y_pred_best))\n",
    "\n",
    "#ici le meilleur paramètre est SVM avec une accuracy score de 0.1 et selection de 5 composantes\n",
    "#Avec SVM l'accuracy est 0.82"
   ]
  },
  {
   "cell_type": "markdown",
   "id": "69057267-6246-4c3c-a665-98a565daf8bc",
   "metadata": {},
   "source": [
    "# Objectifs\n",
    "\n",
    "Dans ce TP, nous allons :\n",
    "\n",
    "    - Utiliser un jeu de données réel pour tester un pipeline de classification.\n",
    "    - Implémenter un noyau personnalisé pour l'interfacer avec SVC.\n",
    "    - Construire plusieurs pipelines avec ACP et différents noyaux (linéaire, RBF, personnalisé).\n",
    "    - Optimiser les hyperparamètres (C, n_components) avec GridSearchCV.\n",
    "    - Comparer les performances et analyser l'impact du noyau et de l'ACP.\n",
    "\n",
    "Documentation utile :\n",
    "\n",
    "    SVM - Support Vector Machine\n",
    "    PCA - Analyse en Composantes Principales\n",
    "    Pipeline\n",
    "    GridSearchCV - Optimisation des hyperparamètres"
   ]
  },
  {
   "cell_type": "markdown",
   "id": "e6e4aee6-3fb7-40df-9ed1-6a1fb512032b",
   "metadata": {},
   "source": [
    "# Chargement et Préparation des Données\n",
    "\n",
    "Nous allons travailler sur le dataset Breast Cancer, qui contient :\n",
    "\n",
    "    30 caractéristiques sur les tumeurs.\n",
    "    2 classes (bénin ou malin).\n",
    "\n",
    "- Chargez le dataset et effectuez un split train/test (80% train, 20% test) (on utilisera `train_test_split`)\n"
   ]
  },
  {
   "cell_type": "code",
   "execution_count": 4,
   "id": "a6f05b40-e614-45ea-8329-5292e5af37b0",
   "metadata": {},
   "outputs": [
    {
     "name": "stdout",
     "output_type": "stream",
     "text": [
      "Nom des features : ['mean radius' 'mean texture' 'mean perimeter' 'mean area'\n",
      " 'mean smoothness' 'mean compactness' 'mean concavity'\n",
      " 'mean concave points' 'mean symmetry' 'mean fractal dimension'\n",
      " 'radius error' 'texture error' 'perimeter error' 'area error'\n",
      " 'smoothness error' 'compactness error' 'concavity error'\n",
      " 'concave points error' 'symmetry error' 'fractal dimension error'\n",
      " 'worst radius' 'worst texture' 'worst perimeter' 'worst area'\n",
      " 'worst smoothness' 'worst compactness' 'worst concavity'\n",
      " 'worst concave points' 'worst symmetry' 'worst fractal dimension']\n",
      "Classes : ['malignant' 'benign']\n",
      "Dimensions des données : (569, 30)\n"
     ]
    }
   ],
   "source": [
    "# Chargement des données\n",
    "data = load_breast_cancer()\n",
    "X, y = data.data, data.target\n",
    "\n",
    "\n",
    "feature_names= data.feature_names\n",
    "# Affichage des caractéristiques\n",
    "print(\"Nom des features :\", data.feature_names)\n",
    "print(\"Classes :\", data.target_names)\n",
    "print(\"Dimensions des données :\", X.shape)\n",
    "\n",
    "# Séparation en train/test\n",
    "X_train, X_test, y_train, y_test = train_test_split(X, y, test_size=0.2, random_state=42)\n"
   ]
  },
  {
   "cell_type": "markdown",
   "id": "5c90bd59-274d-4154-93db-0637d8517883",
   "metadata": {},
   "source": [
    "# Impact de la standardisation\n",
    "\n",
    "On se concentre sur les feature suivantes : 0, 5, 10, 15, 20, 25\n",
    "\n",
    "- afficher leur distribution (via un histogramme) avant et après standardisation\n",
    "\n",
    "\n",
    "Pour aller plus loin, on pourra se référer à \n",
    "\n",
    "https://scikit-learn.org/stable/auto_examples/preprocessing/plot_all_scaling.html#plot-all-scaling-standard-scaler-section"
   ]
  },
  {
   "cell_type": "code",
   "execution_count": 25,
   "id": "57444aa9-3a70-40b2-9743-73eba5b83b0b",
   "metadata": {
    "scrolled": false
   },
   "outputs": [
    {
     "data": {
      "image/png": "[encoded data removed]",
      "text/plain": [
       "<Figure size 640x480 with 2 Axes>"
      ]
     },
     "metadata": {},
     "output_type": "display_data"
    }
   ],
   "source": [
    "# 🔹 Normalisation avec StandardScaler\n",
    "scaler = StandardScaler()\n",
    "\n",
    "# application sur les données de données\n",
    "\n",
    "X_train_scaled = scaler.fit_transform(X_train)\n",
    "X_test_scaled = scaler.transform(X_test)\n",
    "\n",
    "pipeline.fit(X_train_scaled, y_train)\n",
    "\n",
    "y_pred_scaled = pipeline.predict(X_test_scaled)\n",
    "\n",
    "# affichage des histogrammes avant/après \n",
    "\n",
    "fig, axs = plt.subplots(1, 2, sharey=True, tight_layout=True)\n",
    "axs[0].hist(X_train[:,0], bins=20)\n",
    "axs[1].hist(X_train_scaled[:,0], bins=20)\n",
    "\n",
    "plt.show()"
   ]
  },
  {
   "cell_type": "markdown",
   "id": "20a5a785-8523-4dcb-a022-cef94cd589cb",
   "metadata": {},
   "source": [
    "# Implémentation d’un Noyau Personnalisé\n",
    "\n",
    "Un noyau SVM permet de transformer l'espace des données. Nous allons coder dans une fonctione le noyau hybride (entre RBF et polynomial) :\n",
    "\n",
    "$\n",
    "K(x, y) = \\exp\\left(-\\gamma ||x - y||^2\\right) + \\alpha (x \\cdot y + 1)^d\n",
    "$\n",
    "\n",
    "On utilisera : $ \\gamma = 0.3$, $ \\alpha = 0.2 $ et $d = 2$ \n",
    "\n",
    "Comme nous allons l'utiliser dans un SVM, On pourra regarder la documentation : \n",
    "\n",
    "https://scikit-learn.org/stable/modules/svm.html#svm-kernels\n",
    "\n"
   ]
  },
  {
   "cell_type": "code",
   "execution_count": 31,
   "id": "afdf958c-faec-4fd1-891d-c19898003da8",
   "metadata": {},
   "outputs": [],
   "source": [
    "def custom_kernel(X, Y):\n",
    "    \"\"\"Noyau hybride : gaussien + polynomiale.\"\"\"\n",
    "    gamma = 0.3  # Contrôle la largeur du noyau gaussien\n",
    "    alpha = 0.2  # Pondération du terme polynomial\n",
    "    d = 2  # Degré du polynôme\n",
    "\n",
    "    # a compléter \n",
    "    # rbf_svc = svm.SVC(kernel='rbf',gamma = gamma).fit(X, Y)\n",
    "    # polynomial_svc = svm.SVC(kernel='polynomial',degree = d,coef0 = 1).fit(X,Y)\n",
    "    # return rbf_svc + alpha * polynomial_svc\n",
    "    \n",
    "    #correction \n",
    "    euclidian_dist = np.sum((X[:,np.newaxis] - Y[np.newaxis,:])**2 , axis = 2)\n",
    "    gaussian_term = np.exp(-gamma * euclidiant_dist)\n",
    "    polynomial_term = alpha * (np.dot(X,Y.T) + 1)**d\n",
    "    \n",
    "    return gaussian_term + polynomial_term\n",
    "    "
   ]
  },
  {
   "cell_type": "markdown",
   "id": "a057c29d-8312-461b-9cdc-517405352540",
   "metadata": {},
   "source": [
    "# Création des Pipelines\n",
    "\n",
    "A l'intérieur d'une pipeline, nous allons comparer trois modèles :\n",
    "\n",
    "    SVM Linéaire\n",
    "    SVM avec noyau rbf\n",
    "    SVM avec notre noyau personnalisé"
   ]
  },
  {
   "cell_type": "code",
   "execution_count": 36,
   "id": "544cfd2d-0cba-4a78-851a-1f42eebe29a3",
   "metadata": {},
   "outputs": [],
   "source": [
    "# Pipeline avec SVM Linéaire\n",
    "pipeline_linear = Pipeline([\n",
    "    ('scaler', StandardScaler()), \n",
    "    ('pca', PCA(n_components=2)), \n",
    "    ('svm', SVC(kernel='linear'))   # Classificateur SVM linéaire\n",
    "])\n",
    "\n",
    "# Pipeline avec SVM RBF\n",
    "pipeline_rbf = Pipeline([\n",
    "    ('scaler', StandardScaler()),\n",
    "    ('pca', PCA(n_components=2)),\n",
    "    ('svm', SVC(kernel='rbf'))   # Classificateur SVM RBF\n",
    "])\n",
    "# Pipeline avec Noyau Personnalisé\n",
    "pipeline_custom = Pipeline([\n",
    "    ('scaler', StandardScaler()),\n",
    "    ('pca', PCA(n_components=2)),\n",
    "    ('svm', SVC(kernel=custom_kernel))   # Classificateur SVM noyau personnalisé\n",
    "])\n"
   ]
  },
  {
   "cell_type": "markdown",
   "id": "e91a91f0-80ef-46df-a060-ac66cf5382ba",
   "metadata": {},
   "source": [
    "# Sélection d'hyperparamètres par validation croisée\n",
    "\n",
    "Nous allons chercher les meilleures valeurs de C et n_components via GridSearchCV."
   ]
  },
  {
   "cell_type": "code",
   "execution_count": 37,
   "id": "8e6514ae-2bbe-49b2-9e1c-7970b095b3e2",
   "metadata": {
    "scrolled": true
   },
   "outputs": [
    {
     "ename": "ValueError",
     "evalue": "\nAll the 105 fits failed.\nIt is very likely that your model is misconfigured.\nYou can try to debug the error by setting error_score='raise'.\n\nBelow are more details about the failures:\n--------------------------------------------------------------------------------\n105 fits failed with the following error:\nTraceback (most recent call last):\n  File \"/opt/venv/stpi-m8-250121/lib/python3.10/site-packages/sklearn/model_selection/_validation.py\", line 895, in _fit_and_score\n    estimator.fit(X_train, y_train, **fit_params)\n  File \"/opt/venv/stpi-m8-250121/lib/python3.10/site-packages/sklearn/base.py\", line 1474, in wrapper\n    return fit_method(estimator, *args, **kwargs)\n  File \"/opt/venv/stpi-m8-250121/lib/python3.10/site-packages/sklearn/pipeline.py\", line 475, in fit\n    self._final_estimator.fit(Xt, y, **last_step_params[\"fit\"])\n  File \"/opt/venv/stpi-m8-250121/lib/python3.10/site-packages/sklearn/base.py\", line 1474, in wrapper\n    return fit_method(estimator, *args, **kwargs)\n  File \"/opt/venv/stpi-m8-250121/lib/python3.10/site-packages/sklearn/svm/_base.py\", line 250, in fit\n    fit(X, y, sample_weight, solver_type, kernel, random_seed=seed)\n  File \"/opt/venv/stpi-m8-250121/lib/python3.10/site-packages/sklearn/svm/_base.py\", line 310, in _dense_fit\n    X = self._compute_kernel(X)\n  File \"/opt/venv/stpi-m8-250121/lib/python3.10/site-packages/sklearn/svm/_base.py\", line 508, in _compute_kernel\n    kernel = self.kernel(X, self.__Xfit)\n  File \"/tmp/ipykernel_3466/2306021962.py\", line 14, in custom_kernel\nNameError: name 'euclidiant_dist' is not defined\n",
     "output_type": "error",
     "traceback": [
      "\u001b[0;31m---------------------------------------------------------------------------\u001b[0m",
      "\u001b[0;31mValueError\u001b[0m                                Traceback (most recent call last)",
      "Cell \u001b[0;32mIn[37], line 15\u001b[0m\n\u001b[1;32m     13\u001b[0m grid_svm_linear\u001b[38;5;241m.\u001b[39mfit(X_train, y_train)\n\u001b[1;32m     14\u001b[0m grid_svm_rbf\u001b[38;5;241m.\u001b[39mfit(X_train, y_train)\n\u001b[0;32m---> 15\u001b[0m \u001b[43mgrid_custom_kernel\u001b[49m\u001b[38;5;241;43m.\u001b[39;49m\u001b[43mfit\u001b[49m\u001b[43m(\u001b[49m\u001b[43mX_train\u001b[49m\u001b[43m,\u001b[49m\u001b[43m \u001b[49m\u001b[43my_train\u001b[49m\u001b[43m)\u001b[49m\n\u001b[1;32m     17\u001b[0m \u001b[38;5;66;03m# Affichage des meilleurs paramètres\u001b[39;00m\n\u001b[1;32m     18\u001b[0m \u001b[38;5;28mprint\u001b[39m(\u001b[38;5;124m\"\u001b[39m\u001b[38;5;124mMeilleurs paramètres (SVM Linéaire) :\u001b[39m\u001b[38;5;124m\"\u001b[39m, grid_svm_linear\u001b[38;5;241m.\u001b[39mbest_params_)\n",
      "File \u001b[0;32m/opt/venv/stpi-m8-250121/lib/python3.10/site-packages/sklearn/base.py:1474\u001b[0m, in \u001b[0;36m_fit_context.<locals>.decorator.<locals>.wrapper\u001b[0;34m(estimator, *args, **kwargs)\u001b[0m\n\u001b[1;32m   1467\u001b[0m     estimator\u001b[38;5;241m.\u001b[39m_validate_params()\n\u001b[1;32m   1469\u001b[0m \u001b[38;5;28;01mwith\u001b[39;00m config_context(\n\u001b[1;32m   1470\u001b[0m     skip_parameter_validation\u001b[38;5;241m=\u001b[39m(\n\u001b[1;32m   1471\u001b[0m         prefer_skip_nested_validation \u001b[38;5;129;01mor\u001b[39;00m global_skip_validation\n\u001b[1;32m   1472\u001b[0m     )\n\u001b[1;32m   1473\u001b[0m ):\n\u001b[0;32m-> 1474\u001b[0m     \u001b[38;5;28;01mreturn\u001b[39;00m \u001b[43mfit_method\u001b[49m\u001b[43m(\u001b[49m\u001b[43mestimator\u001b[49m\u001b[43m,\u001b[49m\u001b[43m \u001b[49m\u001b[38;5;241;43m*\u001b[39;49m\u001b[43margs\u001b[49m\u001b[43m,\u001b[49m\u001b[43m \u001b[49m\u001b[38;5;241;43m*\u001b[39;49m\u001b[38;5;241;43m*\u001b[39;49m\u001b[43mkwargs\u001b[49m\u001b[43m)\u001b[49m\n",
      "File \u001b[0;32m/opt/venv/stpi-m8-250121/lib/python3.10/site-packages/sklearn/model_selection/_search.py:970\u001b[0m, in \u001b[0;36mBaseSearchCV.fit\u001b[0;34m(self, X, y, **params)\u001b[0m\n\u001b[1;32m    964\u001b[0m     results \u001b[38;5;241m=\u001b[39m \u001b[38;5;28mself\u001b[39m\u001b[38;5;241m.\u001b[39m_format_results(\n\u001b[1;32m    965\u001b[0m         all_candidate_params, n_splits, all_out, all_more_results\n\u001b[1;32m    966\u001b[0m     )\n\u001b[1;32m    968\u001b[0m     \u001b[38;5;28;01mreturn\u001b[39;00m results\n\u001b[0;32m--> 970\u001b[0m \u001b[38;5;28;43mself\u001b[39;49m\u001b[38;5;241;43m.\u001b[39;49m\u001b[43m_run_search\u001b[49m\u001b[43m(\u001b[49m\u001b[43mevaluate_candidates\u001b[49m\u001b[43m)\u001b[49m\n\u001b[1;32m    972\u001b[0m \u001b[38;5;66;03m# multimetric is determined here because in the case of a callable\u001b[39;00m\n\u001b[1;32m    973\u001b[0m \u001b[38;5;66;03m# self.scoring the return type is only known after calling\u001b[39;00m\n\u001b[1;32m    974\u001b[0m first_test_score \u001b[38;5;241m=\u001b[39m all_out[\u001b[38;5;241m0\u001b[39m][\u001b[38;5;124m\"\u001b[39m\u001b[38;5;124mtest_scores\u001b[39m\u001b[38;5;124m\"\u001b[39m]\n",
      "File \u001b[0;32m/opt/venv/stpi-m8-250121/lib/python3.10/site-packages/sklearn/model_selection/_search.py:1527\u001b[0m, in \u001b[0;36mGridSearchCV._run_search\u001b[0;34m(self, evaluate_candidates)\u001b[0m\n\u001b[1;32m   1525\u001b[0m \u001b[38;5;28;01mdef\u001b[39;00m\u001b[38;5;250m \u001b[39m\u001b[38;5;21m_run_search\u001b[39m(\u001b[38;5;28mself\u001b[39m, evaluate_candidates):\n\u001b[1;32m   1526\u001b[0m \u001b[38;5;250m    \u001b[39m\u001b[38;5;124;03m\"\"\"Search all candidates in param_grid\"\"\"\u001b[39;00m\n\u001b[0;32m-> 1527\u001b[0m     \u001b[43mevaluate_candidates\u001b[49m\u001b[43m(\u001b[49m\u001b[43mParameterGrid\u001b[49m\u001b[43m(\u001b[49m\u001b[38;5;28;43mself\u001b[39;49m\u001b[38;5;241;43m.\u001b[39;49m\u001b[43mparam_grid\u001b[49m\u001b[43m)\u001b[49m\u001b[43m)\u001b[49m\n",
      "File \u001b[0;32m/opt/venv/stpi-m8-250121/lib/python3.10/site-packages/sklearn/model_selection/_search.py:947\u001b[0m, in \u001b[0;36mBaseSearchCV.fit.<locals>.evaluate_candidates\u001b[0;34m(candidate_params, cv, more_results)\u001b[0m\n\u001b[1;32m    940\u001b[0m \u001b[38;5;28;01melif\u001b[39;00m \u001b[38;5;28mlen\u001b[39m(out) \u001b[38;5;241m!=\u001b[39m n_candidates \u001b[38;5;241m*\u001b[39m n_splits:\n\u001b[1;32m    941\u001b[0m     \u001b[38;5;28;01mraise\u001b[39;00m \u001b[38;5;167;01mValueError\u001b[39;00m(\n\u001b[1;32m    942\u001b[0m         \u001b[38;5;124m\"\u001b[39m\u001b[38;5;124mcv.split and cv.get_n_splits returned \u001b[39m\u001b[38;5;124m\"\u001b[39m\n\u001b[1;32m    943\u001b[0m         \u001b[38;5;124m\"\u001b[39m\u001b[38;5;124minconsistent results. Expected \u001b[39m\u001b[38;5;132;01m{}\u001b[39;00m\u001b[38;5;124m \u001b[39m\u001b[38;5;124m\"\u001b[39m\n\u001b[1;32m    944\u001b[0m         \u001b[38;5;124m\"\u001b[39m\u001b[38;5;124msplits, got \u001b[39m\u001b[38;5;132;01m{}\u001b[39;00m\u001b[38;5;124m\"\u001b[39m\u001b[38;5;241m.\u001b[39mformat(n_splits, \u001b[38;5;28mlen\u001b[39m(out) \u001b[38;5;241m/\u001b[39m\u001b[38;5;241m/\u001b[39m n_candidates)\n\u001b[1;32m    945\u001b[0m     )\n\u001b[0;32m--> 947\u001b[0m \u001b[43m_warn_or_raise_about_fit_failures\u001b[49m\u001b[43m(\u001b[49m\u001b[43mout\u001b[49m\u001b[43m,\u001b[49m\u001b[43m \u001b[49m\u001b[38;5;28;43mself\u001b[39;49m\u001b[38;5;241;43m.\u001b[39;49m\u001b[43merror_score\u001b[49m\u001b[43m)\u001b[49m\n\u001b[1;32m    949\u001b[0m \u001b[38;5;66;03m# For callable self.scoring, the return type is only know after\u001b[39;00m\n\u001b[1;32m    950\u001b[0m \u001b[38;5;66;03m# calling. If the return type is a dictionary, the error scores\u001b[39;00m\n\u001b[1;32m    951\u001b[0m \u001b[38;5;66;03m# can now be inserted with the correct key. The type checking\u001b[39;00m\n\u001b[1;32m    952\u001b[0m \u001b[38;5;66;03m# of out will be done in `_insert_error_scores`.\u001b[39;00m\n\u001b[1;32m    953\u001b[0m \u001b[38;5;28;01mif\u001b[39;00m \u001b[38;5;28mcallable\u001b[39m(\u001b[38;5;28mself\u001b[39m\u001b[38;5;241m.\u001b[39mscoring):\n",
      "File \u001b[0;32m/opt/venv/stpi-m8-250121/lib/python3.10/site-packages/sklearn/model_selection/_validation.py:536\u001b[0m, in \u001b[0;36m_warn_or_raise_about_fit_failures\u001b[0;34m(results, error_score)\u001b[0m\n\u001b[1;32m    529\u001b[0m \u001b[38;5;28;01mif\u001b[39;00m num_failed_fits \u001b[38;5;241m==\u001b[39m num_fits:\n\u001b[1;32m    530\u001b[0m     all_fits_failed_message \u001b[38;5;241m=\u001b[39m (\n\u001b[1;32m    531\u001b[0m         \u001b[38;5;124mf\u001b[39m\u001b[38;5;124m\"\u001b[39m\u001b[38;5;130;01m\\n\u001b[39;00m\u001b[38;5;124mAll the \u001b[39m\u001b[38;5;132;01m{\u001b[39;00mnum_fits\u001b[38;5;132;01m}\u001b[39;00m\u001b[38;5;124m fits failed.\u001b[39m\u001b[38;5;130;01m\\n\u001b[39;00m\u001b[38;5;124m\"\u001b[39m\n\u001b[1;32m    532\u001b[0m         \u001b[38;5;124m\"\u001b[39m\u001b[38;5;124mIt is very likely that your model is misconfigured.\u001b[39m\u001b[38;5;130;01m\\n\u001b[39;00m\u001b[38;5;124m\"\u001b[39m\n\u001b[1;32m    533\u001b[0m         \u001b[38;5;124m\"\u001b[39m\u001b[38;5;124mYou can try to debug the error by setting error_score=\u001b[39m\u001b[38;5;124m'\u001b[39m\u001b[38;5;124mraise\u001b[39m\u001b[38;5;124m'\u001b[39m\u001b[38;5;124m.\u001b[39m\u001b[38;5;130;01m\\n\u001b[39;00m\u001b[38;5;130;01m\\n\u001b[39;00m\u001b[38;5;124m\"\u001b[39m\n\u001b[1;32m    534\u001b[0m         \u001b[38;5;124mf\u001b[39m\u001b[38;5;124m\"\u001b[39m\u001b[38;5;124mBelow are more details about the failures:\u001b[39m\u001b[38;5;130;01m\\n\u001b[39;00m\u001b[38;5;132;01m{\u001b[39;00mfit_errors_summary\u001b[38;5;132;01m}\u001b[39;00m\u001b[38;5;124m\"\u001b[39m\n\u001b[1;32m    535\u001b[0m     )\n\u001b[0;32m--> 536\u001b[0m     \u001b[38;5;28;01mraise\u001b[39;00m \u001b[38;5;167;01mValueError\u001b[39;00m(all_fits_failed_message)\n\u001b[1;32m    538\u001b[0m \u001b[38;5;28;01melse\u001b[39;00m:\n\u001b[1;32m    539\u001b[0m     some_fits_failed_message \u001b[38;5;241m=\u001b[39m (\n\u001b[1;32m    540\u001b[0m         \u001b[38;5;124mf\u001b[39m\u001b[38;5;124m\"\u001b[39m\u001b[38;5;130;01m\\n\u001b[39;00m\u001b[38;5;132;01m{\u001b[39;00mnum_failed_fits\u001b[38;5;132;01m}\u001b[39;00m\u001b[38;5;124m fits failed out of a total of \u001b[39m\u001b[38;5;132;01m{\u001b[39;00mnum_fits\u001b[38;5;132;01m}\u001b[39;00m\u001b[38;5;124m.\u001b[39m\u001b[38;5;130;01m\\n\u001b[39;00m\u001b[38;5;124m\"\u001b[39m\n\u001b[1;32m    541\u001b[0m         \u001b[38;5;124m\"\u001b[39m\u001b[38;5;124mThe score on these train-test partitions for these parameters\u001b[39m\u001b[38;5;124m\"\u001b[39m\n\u001b[0;32m   (...)\u001b[0m\n\u001b[1;32m    545\u001b[0m         \u001b[38;5;124mf\u001b[39m\u001b[38;5;124m\"\u001b[39m\u001b[38;5;124mBelow are more details about the failures:\u001b[39m\u001b[38;5;130;01m\\n\u001b[39;00m\u001b[38;5;132;01m{\u001b[39;00mfit_errors_summary\u001b[38;5;132;01m}\u001b[39;00m\u001b[38;5;124m\"\u001b[39m\n\u001b[1;32m    546\u001b[0m     )\n",
      "\u001b[0;31mValueError\u001b[0m: \nAll the 105 fits failed.\nIt is very likely that your model is misconfigured.\nYou can try to debug the error by setting error_score='raise'.\n\nBelow are more details about the failures:\n--------------------------------------------------------------------------------\n105 fits failed with the following error:\nTraceback (most recent call last):\n  File \"/opt/venv/stpi-m8-250121/lib/python3.10/site-packages/sklearn/model_selection/_validation.py\", line 895, in _fit_and_score\n    estimator.fit(X_train, y_train, **fit_params)\n  File \"/opt/venv/stpi-m8-250121/lib/python3.10/site-packages/sklearn/base.py\", line 1474, in wrapper\n    return fit_method(estimator, *args, **kwargs)\n  File \"/opt/venv/stpi-m8-250121/lib/python3.10/site-packages/sklearn/pipeline.py\", line 475, in fit\n    self._final_estimator.fit(Xt, y, **last_step_params[\"fit\"])\n  File \"/opt/venv/stpi-m8-250121/lib/python3.10/site-packages/sklearn/base.py\", line 1474, in wrapper\n    return fit_method(estimator, *args, **kwargs)\n  File \"/opt/venv/stpi-m8-250121/lib/python3.10/site-packages/sklearn/svm/_base.py\", line 250, in fit\n    fit(X, y, sample_weight, solver_type, kernel, random_seed=seed)\n  File \"/opt/venv/stpi-m8-250121/lib/python3.10/site-packages/sklearn/svm/_base.py\", line 310, in _dense_fit\n    X = self._compute_kernel(X)\n  File \"/opt/venv/stpi-m8-250121/lib/python3.10/site-packages/sklearn/svm/_base.py\", line 508, in _compute_kernel\n    kernel = self.kernel(X, self.__Xfit)\n  File \"/tmp/ipykernel_3466/2306021962.py\", line 14, in custom_kernel\nNameError: name 'euclidiant_dist' is not defined\n"
     ]
    }
   ],
   "source": [
    "param_grid = {\n",
    "    'pca__n_components': [2, 5, 10, 15, 20, 25, 30],  \n",
    "    'svm__C': [0.1, 1, 10]\n",
    "}\n",
    "\n",
    "# GridSearch pour chaque modèle\n",
    "grid_svm_linear = GridSearchCV(pipeline_linear, param_grid, cv=5, scoring='accuracy', n_jobs=-1)\n",
    "grid_svm_rbf = GridSearchCV(pipeline_rbf, param_grid, cv=5, scoring='accuracy', n_jobs=-1)\n",
    "grid_custom_kernel =GridSearchCV(pipeline_custom, param_grid, cv=5, scoring='accuracy', n_jobs=-1)\n",
    "\n",
    "# Entraînement des modèles\n",
    "grid_svm_linear.fit(X_train, y_train)\n",
    "grid_svm_rbf.fit(X_train, y_train)\n",
    "grid_custom_kernel.fit(X_train, y_train)\n",
    "\n",
    "# Affichage des meilleurs paramètres\n",
    "print(\"Meilleurs paramètres (SVM Linéaire) :\", grid_svm_linear.best_params_)\n",
    "print(\"Meilleurs paramètres (SVM RBF) :\", grid_svm_rbf.best_params_)\n",
    "print(\"Meilleurs paramètres (Noyau Personnalisé) :\", grid_custom_kernel.best_params_)\n"
   ]
  },
  {
   "cell_type": "markdown",
   "id": "7e1f6c78-e6f5-4126-a5c6-3a162c1c76d7",
   "metadata": {},
   "source": [
    "# Performances en test\n",
    "\n",
    "Une fois les pipeline entrainés, on les compare sur les données de test"
   ]
  },
  {
   "cell_type": "code",
   "execution_count": null,
   "id": "2be84803-eed0-40cd-a30b-86b92132d79d",
   "metadata": {},
   "outputs": [],
   "source": [
    "# Prédictions\n",
    "y_pred_linear = grid_svm_linear.best_estimator_.predict(X_test)\n",
    "y_pred_rbf = grid_svm_rbf.best_estimator_.predict(X_test)\n",
    "y_pred_custom = grid_custom_kernel.best_estimator_.predict(X_test)\n",
    "\n",
    "# Calcul du F1-score\n",
    "\n",
    "\n",
    "# Rapport de classification\n",
    "\n"
   ]
  },
  {
   "cell_type": "markdown",
   "id": "6ce56fc2-6fa0-40de-8413-c6e1f4e68305",
   "metadata": {},
   "source": [
    "# Pour aller plus loin\n",
    "\n",
    "Nous allons implémenter une ACP pour pouvoir s'interfacer avec sklearn.\n",
    "\n",
    "Pour rappel, voici les différentes étapes d'une ACP \n",
    "\n",
    "    Centrer les données : Soustraire la moyenne de chaque variable.\n",
    "    Calculer la matrice de covariance.\n",
    "    Effectuer la décomposition en valeurs propres.\n",
    "    Ordonner les composantes par variance décroissante.\n",
    "    Projeter les données sur les nouvelles dimensions.\n",
    "\n",
    "- Implémenter l'ACP (avec les interfaces adéquates)\n",
    "- Intégrer votre ACP dans un pipeline (SVM linéaire) et comparer avec les résultats précédents"
   ]
  },
  {
   "cell_type": "code",
   "execution_count": null,
   "id": "3b3a3be8-dfc6-403c-b9e3-635cdac5130d",
   "metadata": {},
   "outputs": [],
   "source": [
    "from sklearn.base import BaseEstimator, TransformerMixin\n",
    "\n",
    "class CustomPCA(BaseEstimator, TransformerMixin):\n",
    "    def __init__(self, n_components):\n",
    "        \"\"\"\n",
    "        Initialise l'ACP personnalisée.\n",
    "        :param n_components: Nombre de composantes principales à conserver.\n",
    "        \"\"\"\n",
    "        self.n_components = n_components\n",
    "        self.components_ = None\n",
    "        self.mean_ = None\n",
    "\n",
    "    def fit(self, X, y=None):\n",
    "        \"\"\"\n",
    "        Calcule les composantes principales à partir des données.\n",
    "        :param X: Matrice de données (n_samples, n_features)\n",
    "        \"\"\"\n",
    "        # 🔹 1. Centrage des données\n",
    "\n",
    "        # 🔹 2. Calcul de la matrice de covariance\n",
    "\n",
    "        # 🔹 3. Décomposition en valeurs propres\n",
    "\n",
    "        # 🔹 4. Trier les valeurs propres (ordre décroissant)\n",
    "\n",
    "        return self\n",
    "\n",
    "    def transform(self, X):\n",
    "        \"\"\"\n",
    "        Projette les données sur les axes des composantes principales.\n",
    "        :param X: Matrice de données (n_samples, n_features)\n",
    "        :return: X transformé (n_samples, n_components)\n",
    "        \"\"\"\n",
    "\n",
    "    def fit_transform(self, X, y=None):\n",
    "        \"\"\"\n",
    "        Combine fit et transform pour appliquer l'ACP en une seule étape.\n",
    "        \"\"\"\n",
    "        return self.fit(X).transform(X)\n"
   ]
  },
  {
   "cell_type": "code",
   "execution_count": null,
   "id": "e086446b-0d86-46c9-b23c-a6d5e78fa8fd",
   "metadata": {},
   "outputs": [],
   "source": [
    "# Pipeline avec SVM Linéaire avec PCA custom \n",
    "pipeline_svm_customPCA = Pipeline([\n",
    "    ('scaler', StandardScaler()),\n",
    "    ('CustomPCA', CustomPCA(n_components=10)),\n",
    "    ('svm', SVC(kernel='linear'))\n",
    "])\n",
    "\n",
    "\n"
   ]
  }
 ],
 "metadata": {
  "kernelspec": {
   "display_name": "M8",
   "language": "python",
   "name": "m8"
  },
  "language_info": {
   "codemirror_mode": {
    "name": "ipython",
    "version": 3
   },
   "file_extension": ".py",
   "mimetype": "text/x-python",
   "name": "python",
   "nbconvert_exporter": "python",
   "pygments_lexer": "ipython3",
   "version": "3.10.12"
  }
 },
 "nbformat": 4,
 "nbformat_minor": 5
}
